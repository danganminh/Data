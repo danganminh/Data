{
 "cells": [
  {
   "cell_type": "code",
   "execution_count": 9,
   "id": "0d57399b",
   "metadata": {},
   "outputs": [],
   "source": [
    "import numpy as np\n",
    "import matplotlib.pyplot as plt\n",
    "import pandas as pd\n",
    "import os"
   ]
  },
  {
   "cell_type": "code",
   "execution_count": 10,
   "id": "877226bc",
   "metadata": {},
   "outputs": [
    {
     "data": {
      "text/plain": [
       "'C:\\\\Users\\\\minec\\\\JuProjects\\\\SuyGiamQuaVatLieu'"
      ]
     },
     "execution_count": 10,
     "metadata": {},
     "output_type": "execute_result"
    }
   ],
   "source": [
    "os.getcwd()"
   ]
  },
  {
   "cell_type": "code",
   "execution_count": 11,
   "id": "174899f4",
   "metadata": {},
   "outputs": [],
   "source": [
    "dataPb = pd.read_excel('dataPb.xlsx')\n",
    "dataAl = pd.read_excel('dataAl.xlsx')"
   ]
  },
  {
   "cell_type": "markdown",
   "id": "480009d9",
   "metadata": {},
   "source": [
    "d(mm), Counts(Count/s),\n",
    "t = 120 (s),\n",
    "R_0 = 145.255 (Count/s)\n",
    "\n",
    "\n",
    "\n",
    "Data Counts Of Pb"
   ]
  },
  {
   "cell_type": "code",
   "execution_count": 12,
   "id": "f0106ae2",
   "metadata": {},
   "outputs": [
    {
     "data": {
      "text/html": [
       "<div>\n",
       "<style scoped>\n",
       "    .dataframe tbody tr th:only-of-type {\n",
       "        vertical-align: middle;\n",
       "    }\n",
       "\n",
       "    .dataframe tbody tr th {\n",
       "        vertical-align: top;\n",
       "    }\n",
       "\n",
       "    .dataframe thead th {\n",
       "        text-align: right;\n",
       "    }\n",
       "</style>\n",
       "<table border=\"1\" class=\"dataframe\">\n",
       "  <thead>\n",
       "    <tr style=\"text-align: right;\">\n",
       "      <th></th>\n",
       "      <th>d</th>\n",
       "      <th>Counts</th>\n",
       "      <th>Background Counts</th>\n",
       "    </tr>\n",
       "  </thead>\n",
       "  <tbody>\n",
       "    <tr>\n",
       "      <th>0</th>\n",
       "      <td>5</td>\n",
       "      <td>3.372</td>\n",
       "      <td>0.372</td>\n",
       "    </tr>\n",
       "    <tr>\n",
       "      <th>1</th>\n",
       "      <td>10</td>\n",
       "      <td>2.522</td>\n",
       "      <td>0.372</td>\n",
       "    </tr>\n",
       "    <tr>\n",
       "      <th>2</th>\n",
       "      <td>20</td>\n",
       "      <td>1.456</td>\n",
       "      <td>0.372</td>\n",
       "    </tr>\n",
       "    <tr>\n",
       "      <th>3</th>\n",
       "      <td>30</td>\n",
       "      <td>1.211</td>\n",
       "      <td>0.372</td>\n",
       "    </tr>\n",
       "  </tbody>\n",
       "</table>\n",
       "</div>"
      ],
      "text/plain": [
       "    d  Counts  Background Counts\n",
       "0   5   3.372              0.372\n",
       "1  10   2.522              0.372\n",
       "2  20   1.456              0.372\n",
       "3  30   1.211              0.372"
      ]
     },
     "metadata": {},
     "output_type": "display_data"
    }
   ],
   "source": [
    "display(dataPb)"
   ]
  },
  {
   "cell_type": "markdown",
   "id": "d4596066",
   "metadata": {},
   "source": [
    "Data Count Of Al"
   ]
  },
  {
   "cell_type": "code",
   "execution_count": 13,
   "id": "5d52d949",
   "metadata": {},
   "outputs": [
    {
     "data": {
      "text/html": [
       "<div>\n",
       "<style scoped>\n",
       "    .dataframe tbody tr th:only-of-type {\n",
       "        vertical-align: middle;\n",
       "    }\n",
       "\n",
       "    .dataframe tbody tr th {\n",
       "        vertical-align: top;\n",
       "    }\n",
       "\n",
       "    .dataframe thead th {\n",
       "        text-align: right;\n",
       "    }\n",
       "</style>\n",
       "<table border=\"1\" class=\"dataframe\">\n",
       "  <thead>\n",
       "    <tr style=\"text-align: right;\">\n",
       "      <th></th>\n",
       "      <th>d</th>\n",
       "      <th>Counts</th>\n",
       "      <th>Background Counts</th>\n",
       "    </tr>\n",
       "  </thead>\n",
       "  <tbody>\n",
       "    <tr>\n",
       "      <th>0</th>\n",
       "      <td>5</td>\n",
       "      <td>3.983</td>\n",
       "      <td>0.372</td>\n",
       "    </tr>\n",
       "    <tr>\n",
       "      <th>1</th>\n",
       "      <td>10</td>\n",
       "      <td>3.817</td>\n",
       "      <td>0.372</td>\n",
       "    </tr>\n",
       "    <tr>\n",
       "      <th>2</th>\n",
       "      <td>20</td>\n",
       "      <td>3.639</td>\n",
       "      <td>0.372</td>\n",
       "    </tr>\n",
       "    <tr>\n",
       "      <th>3</th>\n",
       "      <td>30</td>\n",
       "      <td>3.261</td>\n",
       "      <td>0.372</td>\n",
       "    </tr>\n",
       "  </tbody>\n",
       "</table>\n",
       "</div>"
      ],
      "text/plain": [
       "    d  Counts  Background Counts\n",
       "0   5   3.983              0.372\n",
       "1  10   3.817              0.372\n",
       "2  20   3.639              0.372\n",
       "3  30   3.261              0.372"
      ]
     },
     "metadata": {},
     "output_type": "display_data"
    }
   ],
   "source": [
    "display(dataAl)"
   ]
  },
  {
   "cell_type": "code",
   "execution_count": 16,
   "id": "06d346ff",
   "metadata": {},
   "outputs": [],
   "source": [
    "# Var Pb\n",
    "cpb = (dataPb[\"Counts\"][0:4])\n",
    "bcpb = (dataPb[\"Background Counts\"][0:4])\n",
    "\n",
    "# Var Al\n",
    "cal = (dataAl[\"Counts\"][0:4])\n",
    "bcal = (dataAl[\"Background Counts\"][0:4])\n",
    "\n",
    "# Real Counts Pb\n",
    "rpb = cpb - bcpb\n",
    "# Real Counts Al\n",
    "ral = cal - bcal"
   ]
  },
  {
   "cell_type": "code",
   "execution_count": 22,
   "id": "5e8f7c3f",
   "metadata": {},
   "outputs": [],
   "source": [
    "dataPb.loc[:, [\"Real Counts\"]] = rpb\n",
    "dataAl.loc[:, [\"Real Counts\"]] = ral"
   ]
  },
  {
   "cell_type": "code",
   "execution_count": 23,
   "id": "f003fbbd",
   "metadata": {},
   "outputs": [
    {
     "name": "stdout",
     "output_type": "stream",
     "text": [
      "Data of Pb\n"
     ]
    },
    {
     "data": {
      "text/html": [
       "<div>\n",
       "<style scoped>\n",
       "    .dataframe tbody tr th:only-of-type {\n",
       "        vertical-align: middle;\n",
       "    }\n",
       "\n",
       "    .dataframe tbody tr th {\n",
       "        vertical-align: top;\n",
       "    }\n",
       "\n",
       "    .dataframe thead th {\n",
       "        text-align: right;\n",
       "    }\n",
       "</style>\n",
       "<table border=\"1\" class=\"dataframe\">\n",
       "  <thead>\n",
       "    <tr style=\"text-align: right;\">\n",
       "      <th></th>\n",
       "      <th>d</th>\n",
       "      <th>Counts</th>\n",
       "      <th>Background Counts</th>\n",
       "      <th>Real Counts</th>\n",
       "    </tr>\n",
       "  </thead>\n",
       "  <tbody>\n",
       "    <tr>\n",
       "      <th>0</th>\n",
       "      <td>5</td>\n",
       "      <td>3.372</td>\n",
       "      <td>0.372</td>\n",
       "      <td>3.000</td>\n",
       "    </tr>\n",
       "    <tr>\n",
       "      <th>1</th>\n",
       "      <td>10</td>\n",
       "      <td>2.522</td>\n",
       "      <td>0.372</td>\n",
       "      <td>2.150</td>\n",
       "    </tr>\n",
       "    <tr>\n",
       "      <th>2</th>\n",
       "      <td>20</td>\n",
       "      <td>1.456</td>\n",
       "      <td>0.372</td>\n",
       "      <td>1.084</td>\n",
       "    </tr>\n",
       "    <tr>\n",
       "      <th>3</th>\n",
       "      <td>30</td>\n",
       "      <td>1.211</td>\n",
       "      <td>0.372</td>\n",
       "      <td>0.839</td>\n",
       "    </tr>\n",
       "  </tbody>\n",
       "</table>\n",
       "</div>"
      ],
      "text/plain": [
       "    d  Counts  Background Counts  Real Counts\n",
       "0   5   3.372              0.372        3.000\n",
       "1  10   2.522              0.372        2.150\n",
       "2  20   1.456              0.372        1.084\n",
       "3  30   1.211              0.372        0.839"
      ]
     },
     "metadata": {},
     "output_type": "display_data"
    }
   ],
   "source": [
    "print(\"Data of Pb\")\n",
    "display(dataPb)"
   ]
  },
  {
   "cell_type": "code",
   "execution_count": 24,
   "id": "fd75e850",
   "metadata": {},
   "outputs": [
    {
     "name": "stdout",
     "output_type": "stream",
     "text": [
      "Data of Al\n"
     ]
    },
    {
     "data": {
      "text/html": [
       "<div>\n",
       "<style scoped>\n",
       "    .dataframe tbody tr th:only-of-type {\n",
       "        vertical-align: middle;\n",
       "    }\n",
       "\n",
       "    .dataframe tbody tr th {\n",
       "        vertical-align: top;\n",
       "    }\n",
       "\n",
       "    .dataframe thead th {\n",
       "        text-align: right;\n",
       "    }\n",
       "</style>\n",
       "<table border=\"1\" class=\"dataframe\">\n",
       "  <thead>\n",
       "    <tr style=\"text-align: right;\">\n",
       "      <th></th>\n",
       "      <th>d</th>\n",
       "      <th>Counts</th>\n",
       "      <th>Background Counts</th>\n",
       "      <th>Real Counts</th>\n",
       "    </tr>\n",
       "  </thead>\n",
       "  <tbody>\n",
       "    <tr>\n",
       "      <th>0</th>\n",
       "      <td>5</td>\n",
       "      <td>3.983</td>\n",
       "      <td>0.372</td>\n",
       "      <td>3.611</td>\n",
       "    </tr>\n",
       "    <tr>\n",
       "      <th>1</th>\n",
       "      <td>10</td>\n",
       "      <td>3.817</td>\n",
       "      <td>0.372</td>\n",
       "      <td>3.445</td>\n",
       "    </tr>\n",
       "    <tr>\n",
       "      <th>2</th>\n",
       "      <td>20</td>\n",
       "      <td>3.639</td>\n",
       "      <td>0.372</td>\n",
       "      <td>3.267</td>\n",
       "    </tr>\n",
       "    <tr>\n",
       "      <th>3</th>\n",
       "      <td>30</td>\n",
       "      <td>3.261</td>\n",
       "      <td>0.372</td>\n",
       "      <td>2.889</td>\n",
       "    </tr>\n",
       "  </tbody>\n",
       "</table>\n",
       "</div>"
      ],
      "text/plain": [
       "    d  Counts  Background Counts  Real Counts\n",
       "0   5   3.983              0.372        3.611\n",
       "1  10   3.817              0.372        3.445\n",
       "2  20   3.639              0.372        3.267\n",
       "3  30   3.261              0.372        2.889"
      ]
     },
     "metadata": {},
     "output_type": "display_data"
    }
   ],
   "source": [
    "print(\"Data of Al\")\n",
    "display(dataAl)"
   ]
  },
  {
   "cell_type": "code",
   "execution_count": 56,
   "id": "59cd0b12",
   "metadata": {},
   "outputs": [
    {
     "name": "stdout",
     "output_type": "stream",
     "text": [
      "[3.    2.15  1.084 0.839]\n",
      "[3.87987853 4.21302298 4.89783292 5.15403539]\n",
      "[3.611 3.445 3.267 2.889]\n",
      "[3.69450608 3.74156691 3.79461869 3.9175804 ]\n",
      "[ 5 10 20 30]\n"
     ]
    }
   ],
   "source": [
    "# R0\n",
    "R0 = 145.255\n",
    "\n",
    "# Pb\n",
    "y1 = np.array(dataPb[\"Real Counts\"][0:4])\n",
    "y1ln = np.array(np.log(R0/y1))\n",
    "# Al\n",
    "y2 = np.array(dataAl[\"Real Counts\"][0:4])\n",
    "y2ln = np.array(np.log(R0/y2))\n",
    "\n",
    "# d same all\n",
    "x = np.array(dataAl[\"d\"][0:4])\n",
    "\n",
    "\n",
    "print(y1)\n",
    "print(y1ln)\n",
    "print(y2)\n",
    "print(y2ln)\n",
    "print(x)"
   ]
  },
  {
   "cell_type": "code",
   "execution_count": 121,
   "id": "ff9b57e4",
   "metadata": {},
   "outputs": [
    {
     "data": {
      "text/plain": [
       "<matplotlib.legend.Legend at 0x29456f8fc70>"
      ]
     },
     "execution_count": 121,
     "metadata": {},
     "output_type": "execute_result"
    },
    {
     "data": {
      "image/png": "[encoded data removed]",
      "text/plain": [
       "<Figure size 450x300 with 1 Axes>"
      ]
     },
     "metadata": {},
     "output_type": "display_data"
    }
   ],
   "source": [
    "plt.style.use('_mpl-gallery')\n",
    "plt.figure(figsize=(4.5, 3))\n",
    "\n",
    "\n",
    "p1 = plt.plot(x, y1, color='r', label='Pb')\n",
    "p2 = plt.plot(x, y2, color='b', label='Al')\n",
    "plt.title(\"R = $f(d)$\")\n",
    "plt.ylabel(\"R $(N/s)$\")\n",
    "plt.xlabel(\"d $(mm)$\")\n",
    "plt.legend()"
   ]
  },
  {
   "cell_type": "code",
   "execution_count": 140,
   "id": "cf7ce895",
   "metadata": {},
   "outputs": [
    {
     "data": {
      "text/plain": [
       "Text(20, 4, '$y = $0.0085$x + $3.6483')"
      ]
     },
     "execution_count": 140,
     "metadata": {},
     "output_type": "execute_result"
    },
    {
     "data": {
      "image/png": "[encoded data removed]",
      "text/plain": [
       "<Figure size 600x400 with 1 Axes>"
      ]
     },
     "metadata": {},
     "output_type": "display_data"
    }
   ],
   "source": [
    "plt.style.use('default')\n",
    "plt.figure(figsize=(6, 4))\n",
    "\n",
    "n = len(x)\n",
    "\n",
    "# Draw Scatter\n",
    "s1 = plt.scatter(x, y1ln, color='r')\n",
    "s2 = plt.scatter(x, y2ln, color='b')\n",
    "\n",
    "# eernum Pb\n",
    "S2_pb = sum((y1ln-np.mean(y1ln))**2) / (n-1)\n",
    "S_pb = np.sqrt(S2_pb)\n",
    "erpb = S_pb / (np.sqrt(n))\n",
    "\n",
    "\n",
    "# eernum Al\n",
    "S2_al = sum((y2ln-np.mean(y2ln))**2) / (n-1)\n",
    "S_al = np.sqrt(S2_al)\n",
    "eral = S_al / (np.sqrt(n))\n",
    "\n",
    "\n",
    "x_smt = np.linspace(np.min(x), np.max(x), 1000)\n",
    "\n",
    "# Poly Fit Pb\n",
    "fpb = np.polyfit(x, y1ln, 1)\n",
    "ypbf = fpb[0]*x_smt + fpb[1]\n",
    "p1 = plt.plot(x_smt, ypbf, color='r', label='Linear Data Pb')\n",
    "\n",
    "y_inpb = fpb[0]*x + fpb[1]\n",
    "R2pb = 1 - (sum((y1ln-y_inpb)**2)) / (sum((y1ln-np.mean(y1ln))**2))\n",
    "\n",
    "\n",
    "# Poly Fit Al\n",
    "fal = np.polyfit(x, y2ln, 1)\n",
    "yalf = fal[0]*x_smt + fal[1]\n",
    "p2 = plt.plot(x_smt, yalf, color='b', label='Linear Data Al')\n",
    "\n",
    "y_inal = fal[0]*x + fal[1]\n",
    "R2pb = 1 - (sum((y2ln-y_inal)**2)) / (sum((y2ln-np.mean(y2ln))**2))\n",
    "\n",
    "\n",
    "plt.title(\"Plot $ln(R_0/R) = \\mu d$\")\n",
    "plt.ylabel(\"$ln(R_0/R)$\")\n",
    "plt.xlabel(\"d $(mm)$\")\n",
    "plt.legend()\n",
    "\n",
    "plt.text(4.5,4.8,\"$\\Delta ln(R_0/R) Pb = $\" + str(round(erpb,4)) )\n",
    "plt.text(4.5,4.7,\"$\\Delta ln(R_0/R) Al = $\" + str(round(eral,4)) )\n",
    "\n",
    "plt.text(20,4.6, \n",
    "        \"$y = $\" + str(round(fpb[0],4)) + \"$x + $\" + str(round(fpb[1],4)),\n",
    "        c='r')\n",
    "\n",
    "plt.text(20,4, \n",
    "         \"$y = $\" + str(round(fal[0],4)) + \"$x + $\" + str(round(fal[1],4)),\n",
    "        c='b')"
   ]
  },
  {
   "cell_type": "code",
   "execution_count": null,
   "id": "4349ebdf",
   "metadata": {},
   "outputs": [],
   "source": []
  }
 ],
 "metadata": {
  "kernelspec": {
   "display_name": "Python 3 (ipykernel)",
   "language": "python",
   "name": "python3"
  },
  "language_info": {
   "codemirror_mode": {
    "name": "ipython",
    "version": 3
   },
   "file_extension": ".py",
   "mimetype": "text/x-python",
   "name": "python",
   "nbconvert_exporter": "python",
   "pygments_lexer": "ipython3",
   "version": "3.9.13"
  }
 },
 "nbformat": 4,
 "nbformat_minor": 5
}
