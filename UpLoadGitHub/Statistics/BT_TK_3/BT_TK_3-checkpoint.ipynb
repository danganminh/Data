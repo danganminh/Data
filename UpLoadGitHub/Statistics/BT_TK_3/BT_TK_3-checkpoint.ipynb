{
 "cells": [
  {
   "cell_type": "markdown",
   "id": "62c37f5b",
   "metadata": {},
   "source": [
    "Họ và tên: Nguyễn Minh Đăng\n",
    "\n",
    "Mã số sinh viến: 20230022"
   ]
  },
  {
   "cell_type": "markdown",
   "id": "df34f5fa",
   "metadata": {},
   "source": [
    "\\begin{align}\n",
    "\\Large BÁO\\: CÁO\\: THỰC\\: HÀNH\\: VẬT\\: LÝ\\: HẠT\\: NHÂN\\quad  ĐẠI\\: CƯƠNG\n",
    "\\end{align}"
   ]
  },
  {
   "cell_type": "markdown",
   "id": "6bd3e913",
   "metadata": {},
   "source": [
    "\\begin{align}\n",
    "Bài\\: 1:\\: Sai\\: Số\\: Thống\\: Kê\\: Trong\\: Đo\\: Đếm\\: Bức\\: Xạ\\: Hạt\\: Nhân\n",
    "\\end{align}"
   ]
  },
  {
   "cell_type": "markdown",
   "id": "dc793f70",
   "metadata": {},
   "source": [
    "## I) Câu hỏi lý thuyết\n",
    "### 1)  Trình bày định nghĩa và nguồn gốc của sai số hệ thống:\n",
    "Sai số hệ thống: là những sai số có nguồn gốc từ.\n",
    "+ Sai lệch định cỡ của thiết bị đo so với giá trị được cho là chuẩn.\n",
    "+ Sai lệch trong bố trí thí nghiệm của người đo.\n",
    "+ Các yếu tố, đều kiện tác động từ bên ngoài (nhiệt độ, các tín hiệu gây nhiễu, \n",
    "...).\n",
    "+ Sai số của các đại lượng tham khảo từ các mô hình tính toán hoặc đo đạc \n",
    "khác.\n"
   ]
  },
  {
   "cell_type": "markdown",
   "id": "58f36806",
   "metadata": {},
   "source": [
    "### 2) Nêu một số ví dụ về sai số ngẫu nhiên thường gặp:\n",
    "- Sự không ổn định khi đo phông môi trường.\n",
    "- Sai của các lần đo đạc và vẽ biểu đồ trong thực hành vật lý cơ sở 1 và 2."
   ]
  },
  {
   "cell_type": "markdown",
   "id": "a24698fd",
   "metadata": {},
   "source": [
    "## II) Báo cáo kết quả\n",
    "\n",
    "Nguồn phóng xạ: Ra-226\n",
    "\n",
    "Thời gian đo: 100(s)\n",
    "\n",
    "Thiết bị đo: Geiger-Counter"
   ]
  },
  {
   "cell_type": "code",
   "execution_count": null,
   "id": "a43e0e52",
   "metadata": {},
   "outputs": [],
   "source": []
  }
 ],
 "metadata": {
  "kernelspec": {
   "display_name": "Python 3",
   "language": "python",
   "name": "python3"
  },
  "language_info": {
   "codemirror_mode": {
    "name": "ipython",
    "version": 3
   },
   "file_extension": ".py",
   "mimetype": "text/x-python",
   "name": "python",
   "nbconvert_exporter": "python",
   "pygments_lexer": "ipython3",
   "version": "3.11.1"
  },
  "vscode": {
   "interpreter": {
    "hash": "b4db55a6c4cfdf421347213d5fb5601aa82859160e9edaa32abfc7346e9e446a"
   }
  }
 },
 "nbformat": 4,
 "nbformat_minor": 5
}
