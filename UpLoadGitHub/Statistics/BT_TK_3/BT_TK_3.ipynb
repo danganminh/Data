{
 "cells": [
  {
   "cell_type": "markdown",
   "id": "62c37f5b",
   "metadata": {},
   "source": [
    "Họ và tên: Nguyễn Minh Đăng\n",
    "\n",
    "Mã số sinh viến: 20230022"
   ]
  },
  {
   "cell_type": "markdown",
   "id": "f292f708",
   "metadata": {},
   "source": [
    "# BÁO CÁO THỰC HÀNH VẬT LÝ HẠT NHÂN ĐẠI CƯƠNG"
   ]
  },
  {
   "cell_type": "markdown",
   "id": "6bd3e913",
   "metadata": {},
   "source": [
    "## SAI SỐ THỐNG KÊ TRONG THỰC NGHIỆM"
   ]
  },
  {
   "cell_type": "markdown",
   "id": "dc793f70",
   "metadata": {},
   "source": [
    "## Câu hỏi lý thuyết\n",
    "### Trình bày định nghĩa và nguồn gốc của sai số hệ thống:\n",
    "Sai số hệ thống: là những sai số có nguồn gốc từ.\n",
    "\n",
    "+ Sai lệch định cỡ của thiết bị đo so với giá trị được cho là chuẩn\n",
    "\n",
    "+ Sai lệch trong bố trí thí nghiệm của người đo.\n",
    "\n",
    "+ Các yếu tố, đều kiện tác động từ bên ngoài (nhiệt độ, các tín hiệu gây nhiễu, ...).\n",
    "\n",
    "+ Sai số của các đại lượng tham khảo từ các mô hình tính toán hoặc đo đạc khác.\n"
   ]
  },
  {
   "cell_type": "markdown",
   "id": "58f36806",
   "metadata": {},
   "source": [
    "### Nêu một số ví dụ về sai số ngẫu nhiên thường gặp:\n",
    "- Sự không ổn định khi đo phông môi trường.\n",
    "- Sai của các lần đo đạc và vẽ biểu đồ trong thực hành vật lý cơ sở 1 và 2."
   ]
  },
  {
   "cell_type": "markdown",
   "id": "a24698fd",
   "metadata": {},
   "source": [
    "## Báo cáo kết quả\n",
    "\n",
    "Nguồn phóng xạ: Ra-226\n",
    "\n",
    "Thời gian đo: 100(s)\n",
    "\n",
    "Thiết bị đo: Geiger-Counter"
   ]
  },
  {
   "cell_type": "code",
   "execution_count": 1,
   "id": "a43e0e52",
   "metadata": {},
   "outputs": [
    {
     "data": {
      "text/plain": [
       "'c:\\\\Users\\\\minec\\\\PROJECTS\\\\Jupyter\\\\BT Thong Ke\\\\BT_TK_3'"
      ]
     },
     "execution_count": 1,
     "metadata": {},
     "output_type": "execute_result"
    }
   ],
   "source": [
    "import pandas as pd\n",
    "import numpy as np\n",
    "import os\n",
    "os.getcwd()"
   ]
  },
  {
   "cell_type": "code",
   "execution_count": 2,
   "id": "ba9adbe5",
   "metadata": {},
   "outputs": [],
   "source": [
    "data = pd.read_excel('data.xlsx')"
   ]
  },
  {
   "cell_type": "markdown",
   "id": "8e0d239f",
   "metadata": {},
   "source": [
    "### Bảng số liệu"
   ]
  },
  {
   "cell_type": "code",
   "execution_count": 3,
   "id": "fbe45828",
   "metadata": {},
   "outputs": [
    {
     "data": {
      "text/html": [
       "<div>\n",
       "<style scoped>\n",
       "    .dataframe tbody tr th:only-of-type {\n",
       "        vertical-align: middle;\n",
       "    }\n",
       "\n",
       "    .dataframe tbody tr th {\n",
       "        vertical-align: top;\n",
       "    }\n",
       "\n",
       "    .dataframe thead th {\n",
       "        text-align: right;\n",
       "    }\n",
       "</style>\n",
       "<table border=\"1\" class=\"dataframe\">\n",
       "  <thead>\n",
       "    <tr style=\"text-align: right;\">\n",
       "      <th></th>\n",
       "      <th>Np</th>\n",
       "      <th>N</th>\n",
       "    </tr>\n",
       "  </thead>\n",
       "  <tbody>\n",
       "    <tr>\n",
       "      <th>0</th>\n",
       "      <td>133</td>\n",
       "      <td>22306</td>\n",
       "    </tr>\n",
       "    <tr>\n",
       "      <th>1</th>\n",
       "      <td>108</td>\n",
       "      <td>22171</td>\n",
       "    </tr>\n",
       "    <tr>\n",
       "      <th>2</th>\n",
       "      <td>84</td>\n",
       "      <td>22095</td>\n",
       "    </tr>\n",
       "    <tr>\n",
       "      <th>3</th>\n",
       "      <td>124</td>\n",
       "      <td>22218</td>\n",
       "    </tr>\n",
       "    <tr>\n",
       "      <th>4</th>\n",
       "      <td>129</td>\n",
       "      <td>22164</td>\n",
       "    </tr>\n",
       "    <tr>\n",
       "      <th>5</th>\n",
       "      <td>125</td>\n",
       "      <td>22205</td>\n",
       "    </tr>\n",
       "    <tr>\n",
       "      <th>6</th>\n",
       "      <td>123</td>\n",
       "      <td>22110</td>\n",
       "    </tr>\n",
       "    <tr>\n",
       "      <th>7</th>\n",
       "      <td>90</td>\n",
       "      <td>22232</td>\n",
       "    </tr>\n",
       "    <tr>\n",
       "      <th>8</th>\n",
       "      <td>103</td>\n",
       "      <td>22202</td>\n",
       "    </tr>\n",
       "    <tr>\n",
       "      <th>9</th>\n",
       "      <td>94</td>\n",
       "      <td>22280</td>\n",
       "    </tr>\n",
       "  </tbody>\n",
       "</table>\n",
       "</div>"
      ],
      "text/plain": [
       "    Np      N\n",
       "0  133  22306\n",
       "1  108  22171\n",
       "2   84  22095\n",
       "3  124  22218\n",
       "4  129  22164\n",
       "5  125  22205\n",
       "6  123  22110\n",
       "7   90  22232\n",
       "8  103  22202\n",
       "9   94  22280"
      ]
     },
     "metadata": {},
     "output_type": "display_data"
    }
   ],
   "source": [
    "display(data)"
   ]
  },
  {
   "cell_type": "markdown",
   "id": "701a7c1b",
   "metadata": {},
   "source": [
    "Gọi ${R}$ là tốc độ đếm thật, ta có:\n",
    "\n",
    "\\begin{align}\n",
    "R(s^{-1}) = (N-N_P)/100\n",
    "\\end{align}"
   ]
  },
  {
   "cell_type": "code",
   "execution_count": 4,
   "id": "8d49badd",
   "metadata": {},
   "outputs": [],
   "source": [
    "N = np.array(data[0:]['N'])/100\n",
    "Np = np.array(data[0:]['Np'])/100\n",
    "R = (N-Np)\n",
    "STT = np.linspace(1, len(R), len(R), dtype=int)"
   ]
  },
  {
   "cell_type": "markdown",
   "id": "1a8eaabb",
   "metadata": {},
   "source": [
    "### Ta có bảng số liệu mới"
   ]
  },
  {
   "cell_type": "code",
   "execution_count": 5,
   "id": "15c38f0c",
   "metadata": {},
   "outputs": [
    {
     "data": {
      "text/html": [
       "<div>\n",
       "<style scoped>\n",
       "    .dataframe tbody tr th:only-of-type {\n",
       "        vertical-align: middle;\n",
       "    }\n",
       "\n",
       "    .dataframe tbody tr th {\n",
       "        vertical-align: top;\n",
       "    }\n",
       "\n",
       "    .dataframe thead th {\n",
       "        text-align: right;\n",
       "    }\n",
       "</style>\n",
       "<table border=\"1\" class=\"dataframe\">\n",
       "  <thead>\n",
       "    <tr style=\"text-align: right;\">\n",
       "      <th></th>\n",
       "      <th>$N(s^{-1})$</th>\n",
       "      <th>$N_p(s^{-1})$</th>\n",
       "      <th>$R(s^{-1})$</th>\n",
       "    </tr>\n",
       "  </thead>\n",
       "  <tbody>\n",
       "    <tr>\n",
       "      <th>0</th>\n",
       "      <td>223.06</td>\n",
       "      <td>1.33</td>\n",
       "      <td>221.73</td>\n",
       "    </tr>\n",
       "    <tr>\n",
       "      <th>1</th>\n",
       "      <td>221.71</td>\n",
       "      <td>1.08</td>\n",
       "      <td>220.63</td>\n",
       "    </tr>\n",
       "    <tr>\n",
       "      <th>2</th>\n",
       "      <td>220.95</td>\n",
       "      <td>0.84</td>\n",
       "      <td>220.11</td>\n",
       "    </tr>\n",
       "    <tr>\n",
       "      <th>3</th>\n",
       "      <td>222.18</td>\n",
       "      <td>1.24</td>\n",
       "      <td>220.94</td>\n",
       "    </tr>\n",
       "    <tr>\n",
       "      <th>4</th>\n",
       "      <td>221.64</td>\n",
       "      <td>1.29</td>\n",
       "      <td>220.35</td>\n",
       "    </tr>\n",
       "    <tr>\n",
       "      <th>5</th>\n",
       "      <td>222.05</td>\n",
       "      <td>1.25</td>\n",
       "      <td>220.80</td>\n",
       "    </tr>\n",
       "    <tr>\n",
       "      <th>6</th>\n",
       "      <td>221.10</td>\n",
       "      <td>1.23</td>\n",
       "      <td>219.87</td>\n",
       "    </tr>\n",
       "    <tr>\n",
       "      <th>7</th>\n",
       "      <td>222.32</td>\n",
       "      <td>0.90</td>\n",
       "      <td>221.42</td>\n",
       "    </tr>\n",
       "    <tr>\n",
       "      <th>8</th>\n",
       "      <td>222.02</td>\n",
       "      <td>1.03</td>\n",
       "      <td>220.99</td>\n",
       "    </tr>\n",
       "    <tr>\n",
       "      <th>9</th>\n",
       "      <td>222.80</td>\n",
       "      <td>0.94</td>\n",
       "      <td>221.86</td>\n",
       "    </tr>\n",
       "  </tbody>\n",
       "</table>\n",
       "</div>"
      ],
      "text/plain": [
       "   $N(s^{-1})$  $N_p(s^{-1})$  $R(s^{-1})$\n",
       "0       223.06           1.33       221.73\n",
       "1       221.71           1.08       220.63\n",
       "2       220.95           0.84       220.11\n",
       "3       222.18           1.24       220.94\n",
       "4       221.64           1.29       220.35\n",
       "5       222.05           1.25       220.80\n",
       "6       221.10           1.23       219.87\n",
       "7       222.32           0.90       221.42\n",
       "8       222.02           1.03       220.99\n",
       "9       222.80           0.94       221.86"
      ]
     },
     "metadata": {},
     "output_type": "display_data"
    }
   ],
   "source": [
    "df = {'$N(s^{-1})$': N, '$N_p(s^{-1})$': Np, '$R(s^{-1})$': R}\n",
    "display(pd.DataFrame(df))"
   ]
  },
  {
   "cell_type": "markdown",
   "id": "344745bf",
   "metadata": {},
   "source": [
    "##### Hàm display bị lỗi chèn công thức là bị lỗi"
   ]
  },
  {
   "cell_type": "markdown",
   "id": "ff48af92",
   "metadata": {},
   "source": [
    "### Tính sai số\n",
    "Ta có sai số thống kê mẫu:\n",
    "\\begin{align}\n",
    "\\Delta x = \\frac{S_x}{\\sqrt n}\n",
    "\\end{align}\n",
    "- ${S_x}$ là độ lệch chuẩn mẫu\n",
    "\n",
    "Với số liệu trên ta có:\n",
    "\\begin{align}\n",
    "\\Delta R\\, (s^{-1}) = ( \\Delta N + \\Delta Np ) / 100\n",
    "\\end{align}"
   ]
  },
  {
   "cell_type": "markdown",
   "id": "ad27ab87",
   "metadata": {},
   "source": [
    "### Tính sai số"
   ]
  },
  {
   "cell_type": "code",
   "execution_count": 6,
   "id": "14e0614c",
   "metadata": {},
   "outputs": [],
   "source": [
    "import statistics as stt\n",
    "\n",
    "erN = stt.variance(N)/np.sqrt(len(N))\n",
    "erNp = stt.variance(Np)/np.sqrt(len(Np))\n",
    "erR = (erN + erNp)\n",
    "\n",
    "mean_N = stt.mean(N)\n",
    "mean_R = stt.mean(R)"
   ]
  },
  {
   "cell_type": "code",
   "execution_count": 11,
   "id": "8dc39223",
   "metadata": {},
   "outputs": [
    {
     "data": {
      "image/png": "[encoded data removed]",
      "text/plain": [
       "<Figure size 600x400 with 1 Axes>"
      ]
     },
     "metadata": {},
     "output_type": "display_data"
    }
   ],
   "source": [
    "import matplotlib.pyplot as plt\n",
    "plt.figure(figsize=(6,4))\n",
    "\n",
    "## Scatter Chart\n",
    "plt.scatter(STT, N , color='red')\n",
    "plt.scatter(STT, R , color='blue')\n",
    "\n",
    "# plot chart\n",
    "plt.plot([min(STT), max(STT)], [mean_N , mean_N ], color='red', label='Mean Total Counts')\n",
    "plt.plot([min(STT), max(STT)], [mean_R , mean_R ], color='blue', label='Mean Real Counts')\n",
    "\n",
    "plt.errorbar(STT, R, yerr=erR, linestyle='none', color='black', capsize=3)\n",
    "\n",
    "# Text\n",
    "L = plt.legend()\n",
    "plt.setp(L.texts, fontsize=12, family='arial')\n",
    "plt.title('Scatter Chart of Counts Number \\nRa-226', fontsize=13, fontname='arial')\n",
    "plt.xlabel('Serial', fontsize=12, fontname='arial')\n",
    "plt.ylabel('Counts $(s^{-1})$', fontsize=12, fontname='arial')\n",
    "\n",
    "plt.text(1, 221.25, r'$\\Delta R$ = ' + str(round(erR,4)) + r'$(s^{-1})$', color='blue', fontsize=11, fontname='arial')\n",
    "\n",
    "plt.savefig('pnp', dpi=300)"
   ]
  },
  {
   "cell_type": "code",
   "execution_count": null,
   "id": "ea27b0d6",
   "metadata": {},
   "outputs": [],
   "source": []
  },
  {
   "cell_type": "code",
   "execution_count": null,
   "id": "3cb4d29c",
   "metadata": {},
   "outputs": [],
   "source": []
  },
  {
   "cell_type": "code",
   "execution_count": null,
   "id": "39787d1b",
   "metadata": {},
   "outputs": [],
   "source": []
  }
 ],
 "metadata": {
  "kernelspec": {
   "display_name": "base",
   "language": "python",
   "name": "python3"
  },
  "language_info": {
   "codemirror_mode": {
    "name": "ipython",
    "version": 3
   },
   "file_extension": ".py",
   "mimetype": "text/x-python",
   "name": "python",
   "nbconvert_exporter": "python",
   "pygments_lexer": "ipython3",
   "version": "3.9.13"
  },
  "vscode": {
   "interpreter": {
    "hash": "f5c0179c1337ed27ddf964a31f3e3e92d1bb08a61003d283383cefc7e8c53275"
   }
  }
 },
 "nbformat": 4,
 "nbformat_minor": 5
}
